{
 "cells": [
  {
   "cell_type": "code",
   "execution_count": 1,
   "metadata": {},
   "outputs": [
    {
     "name": "stderr",
     "output_type": "stream",
     "text": [
      "[nltk_data] Downloading package stopwords to\n",
      "[nltk_data]     /Users/AmandaFakhoury/nltk_data...\n",
      "[nltk_data]   Package stopwords is already up-to-date!\n"
     ]
    },
    {
     "name": "stdout",
     "output_type": "stream",
     "text": [
      "Requirement already satisfied: de_core_news_sm==2.0.0 from https://github.com/explosion/spacy-models/releases/download/de_core_news_sm-2.0.0/de_core_news_sm-2.0.0.tar.gz#egg=de_core_news_sm==2.0.0 in /anaconda3/lib/python3.7/site-packages (2.0.0)\n",
      "\n",
      "\u001b[93m    Linking successful\u001b[0m\n",
      "    /anaconda3/lib/python3.7/site-packages/de_core_news_sm -->\n",
      "    /anaconda3/lib/python3.7/site-packages/spacy/data/de\n",
      "\n",
      "    You can now load the model via spacy.load('de')\n",
      "\n",
      "['aber', 'alle', 'allem', 'allen', 'aller', 'alles', 'als', 'also', 'am', 'an', 'ander', 'andere', 'anderem', 'anderen', 'anderer', 'anderes', 'anderm', 'andern', 'anderr', 'anders', 'auch', 'auf', 'aus', 'bei', 'bin', 'bis', 'bist', 'da', 'damit', 'dann', 'der', 'den', 'des', 'dem', 'die', 'das', 'dass', 'daß', 'derselbe', 'derselben', 'denselben', 'desselben', 'demselben', 'dieselbe', 'dieselben', 'dasselbe', 'dazu', 'dein', 'deine', 'deinem', 'deinen', 'deiner', 'deines', 'denn', 'derer', 'dessen', 'dich', 'dir', 'du', 'dies', 'diese', 'diesem', 'diesen', 'dieser', 'dieses', 'doch', 'dort', 'durch', 'ein', 'eine', 'einem', 'einen', 'einer', 'eines', 'einig', 'einige', 'einigem', 'einigen', 'einiger', 'einiges', 'einmal', 'er', 'ihn', 'ihm', 'es', 'etwas', 'euer', 'eure', 'eurem', 'euren', 'eurer', 'eures', 'für', 'gegen', 'gewesen', 'hab', 'habe', 'haben', 'hat', 'hatte', 'hatten', 'hier', 'hin', 'hinter', 'ich', 'mich', 'mir', 'ihr', 'ihre', 'ihrem', 'ihren', 'ihrer', 'ihres', 'euch', 'im', 'in', 'indem', 'ins', 'ist', 'jede', 'jedem', 'jeden', 'jeder', 'jedes', 'jene', 'jenem', 'jenen', 'jener', 'jenes', 'jetzt', 'kann', 'kein', 'keine', 'keinem', 'keinen', 'keiner', 'keines', 'können', 'könnte', 'machen', 'man', 'manche', 'manchem', 'manchen', 'mancher', 'manches', 'mein', 'meine', 'meinem', 'meinen', 'meiner', 'meines', 'mit', 'muss', 'musste', 'nach', 'nicht', 'nichts', 'noch', 'nun', 'nur', 'ob', 'oder', 'ohne', 'sehr', 'sein', 'seine', 'seinem', 'seinen', 'seiner', 'seines', 'selbst', 'sich', 'sie', 'ihnen', 'sind', 'so', 'solche', 'solchem', 'solchen', 'solcher', 'solches', 'soll', 'sollte', 'sondern', 'sonst', 'über', 'um', 'und', 'uns', 'unsere', 'unserem', 'unseren', 'unser', 'unseres', 'unter', 'viel', 'vom', 'von', 'vor', 'während', 'war', 'waren', 'warst', 'was', 'weg', 'weil', 'weiter', 'welche', 'welchem', 'welchen', 'welcher', 'welches', 'wenn', 'werde', 'werden', 'wie', 'wieder', 'will', 'wir', 'wird', 'wirst', 'wo', 'wollen', 'wollte', 'würde', 'würden', 'zu', 'zum', 'zur', 'zwar', 'zwischen']\n"
     ]
    }
   ],
   "source": [
    "from PreProcess import *"
   ]
  },
  {
   "cell_type": "code",
   "execution_count": 2,
   "metadata": {},
   "outputs": [
    {
     "data": {
      "text/html": [
       "<div>\n",
       "<style scoped>\n",
       "    .dataframe tbody tr th:only-of-type {\n",
       "        vertical-align: middle;\n",
       "    }\n",
       "\n",
       "    .dataframe tbody tr th {\n",
       "        vertical-align: top;\n",
       "    }\n",
       "\n",
       "    .dataframe thead th {\n",
       "        text-align: right;\n",
       "    }\n",
       "</style>\n",
       "<table border=\"1\" class=\"dataframe\">\n",
       "  <thead>\n",
       "    <tr style=\"text-align: right;\">\n",
       "      <th></th>\n",
       "      <th>book_id</th>\n",
       "      <th>Title</th>\n",
       "      <th>Publisher Name</th>\n",
       "      <th>Review Count</th>\n",
       "      <th>text</th>\n",
       "    </tr>\n",
       "  </thead>\n",
       "  <tbody>\n",
       "    <tr>\n",
       "      <th>0</th>\n",
       "      <td>168146</td>\n",
       "      <td>Jagd auf die Bestie</td>\n",
       "      <td>Ullstein Buchverlage</td>\n",
       "      <td>70</td>\n",
       "      <td>Der 10. Band der Hunter &amp; Garcia-Reihe hat es mal wieder in sich! \\r\\nWer einmal angefangen hat Chris Carter zu lesen, kann so schnell nicht wieder aufhören.\\r\\nSchlaflose Nächte sind da vorprogra...</td>\n",
       "    </tr>\n",
       "    <tr>\n",
       "      <th>1</th>\n",
       "      <td>168146</td>\n",
       "      <td>Jagd auf die Bestie</td>\n",
       "      <td>Ullstein Buchverlage</td>\n",
       "      <td>70</td>\n",
       "      <td>Wow was ein Wahnsinns 10. Teil der Hunter &amp; Garcia Reihe. Und diesmal haben sie das Böse in Person vor sich, mit dem sie zu tun haben. Denn diesmal treffen die Morde Hunter persönlich. \\r\\nWieder ...</td>\n",
       "    </tr>\n",
       "    <tr>\n",
       "      <th>2</th>\n",
       "      <td>168146</td>\n",
       "      <td>Jagd auf die Bestie</td>\n",
       "      <td>Ullstein Buchverlage</td>\n",
       "      <td>70</td>\n",
       "      <td>Thriller\\r\\nUllstein Taschenbuch\\r\\nBroschur\\r\\n416 Seiten\\r\\nAus dem Englischen übersetzt von Sybille Uplegger.\\r\\nISBN-13 9783548291918\\r\\nErschienen: 26.07.2019\\r\\nAus der Reihe „Ein Hunter-und...</td>\n",
       "    </tr>\n",
       "    <tr>\n",
       "      <th>3</th>\n",
       "      <td>168146</td>\n",
       "      <td>Jagd auf die Bestie</td>\n",
       "      <td>Ullstein Buchverlage</td>\n",
       "      <td>70</td>\n",
       "      <td>Dies ist mein erster Thriller von Chris Carter. Trotz der Brutalität, finde ich die Story psychologisch hervorragend konstruiert, was an dem vielschichtig begabten Autor liegt, welcher mich für se...</td>\n",
       "    </tr>\n",
       "    <tr>\n",
       "      <th>4</th>\n",
       "      <td>168146</td>\n",
       "      <td>Jagd auf die Bestie</td>\n",
       "      <td>Ullstein Buchverlage</td>\n",
       "      <td>70</td>\n",
       "      <td>Dieses Buch ist bereits der zehnte Band der Robert-Hunter-Reihe und die erste Fortsetzung, die der Autor geschrieben hat. „Jagd auf die Bestie“ knüpft an an „Stille Bestie“, den sechsten Band der ...</td>\n",
       "    </tr>\n",
       "  </tbody>\n",
       "</table>\n",
       "</div>"
      ],
      "text/plain": [
       "   book_id                Title        Publisher Name  Review Count  \\\n",
       "0   168146  Jagd auf die Bestie  Ullstein Buchverlage            70   \n",
       "1   168146  Jagd auf die Bestie  Ullstein Buchverlage            70   \n",
       "2   168146  Jagd auf die Bestie  Ullstein Buchverlage            70   \n",
       "3   168146  Jagd auf die Bestie  Ullstein Buchverlage            70   \n",
       "4   168146  Jagd auf die Bestie  Ullstein Buchverlage            70   \n",
       "\n",
       "                                                                                                                                                                                                      text  \n",
       "0  Der 10. Band der Hunter & Garcia-Reihe hat es mal wieder in sich! \\r\\nWer einmal angefangen hat Chris Carter zu lesen, kann so schnell nicht wieder aufhören.\\r\\nSchlaflose Nächte sind da vorprogra...  \n",
       "1  Wow was ein Wahnsinns 10. Teil der Hunter & Garcia Reihe. Und diesmal haben sie das Böse in Person vor sich, mit dem sie zu tun haben. Denn diesmal treffen die Morde Hunter persönlich. \\r\\nWieder ...  \n",
       "2  Thriller\\r\\nUllstein Taschenbuch\\r\\nBroschur\\r\\n416 Seiten\\r\\nAus dem Englischen übersetzt von Sybille Uplegger.\\r\\nISBN-13 9783548291918\\r\\nErschienen: 26.07.2019\\r\\nAus der Reihe „Ein Hunter-und...  \n",
       "3  Dies ist mein erster Thriller von Chris Carter. Trotz der Brutalität, finde ich die Story psychologisch hervorragend konstruiert, was an dem vielschichtig begabten Autor liegt, welcher mich für se...  \n",
       "4  Dieses Buch ist bereits der zehnte Band der Robert-Hunter-Reihe und die erste Fortsetzung, die der Autor geschrieben hat. „Jagd auf die Bestie“ knüpft an an „Stille Bestie“, den sechsten Band der ...  "
      ]
     },
     "execution_count": 2,
     "metadata": {},
     "output_type": "execute_result"
    }
   ],
   "source": [
    "#Reading in data \n",
    "df = pd.read_csv(\"Reviews.csv\")\n",
    "df = df.dropna()\n",
    "df.head()"
   ]
  },
  {
   "cell_type": "code",
   "execution_count": 3,
   "metadata": {},
   "outputs": [
    {
     "name": "stdout",
     "output_type": "stream",
     "text": [
      "['garcia', 'reihe', 'schnellen', 'schlaflose', 'chte']\n"
     ]
    }
   ],
   "source": [
    "#Cleaning the reviews \n",
    "clean_df = cleantext(df)\n",
    "\n",
    "tokenized_reviews = pd.Series(clean_df).apply(lambda x: x.split())\n",
    "\n",
    "\n",
    "#Lemmatized words as well as filtered all nouns and adjectives\n",
    "df_2 = lemmatization(tokenized_reviews)\n",
    "print(df_2[0])"
   ]
  },
  {
   "cell_type": "code",
   "execution_count": 4,
   "metadata": {},
   "outputs": [],
   "source": [
    "df_3 = []\n",
    "for i in range(len(df_2)):\n",
    "    df_3.append(' '.join(df_2[i]))\n",
    "    "
   ]
  },
  {
   "cell_type": "code",
   "execution_count": 5,
   "metadata": {},
   "outputs": [
    {
     "data": {
      "text/html": [
       "<div>\n",
       "<style scoped>\n",
       "    .dataframe tbody tr th:only-of-type {\n",
       "        vertical-align: middle;\n",
       "    }\n",
       "\n",
       "    .dataframe tbody tr th {\n",
       "        vertical-align: top;\n",
       "    }\n",
       "\n",
       "    .dataframe thead th {\n",
       "        text-align: right;\n",
       "    }\n",
       "</style>\n",
       "<table border=\"1\" class=\"dataframe\">\n",
       "  <thead>\n",
       "    <tr style=\"text-align: right;\">\n",
       "      <th></th>\n",
       "      <th>book_id</th>\n",
       "      <th>Title</th>\n",
       "      <th>Publisher Name</th>\n",
       "      <th>Review Count</th>\n",
       "      <th>text</th>\n",
       "      <th>Clean_Text</th>\n",
       "    </tr>\n",
       "  </thead>\n",
       "  <tbody>\n",
       "    <tr>\n",
       "      <th>0</th>\n",
       "      <td>168146</td>\n",
       "      <td>Jagd auf die Bestie</td>\n",
       "      <td>Ullstein Buchverlage</td>\n",
       "      <td>70</td>\n",
       "      <td>band hunter garcia reihe wieder sich einmal angefangen chris carter lesen kann schnell nicht wieder aufh schlaflose chte sind vorprogrammiert</td>\n",
       "      <td>garcia reihe schnellen schlaflose chte</td>\n",
       "    </tr>\n",
       "    <tr>\n",
       "      <th>1</th>\n",
       "      <td>168146</td>\n",
       "      <td>Jagd auf die Bestie</td>\n",
       "      <td>Ullstein Buchverlage</td>\n",
       "      <td>70</td>\n",
       "      <td>wahnsinns teil hunter garcia reihe diesmal haben person sich haben denn diesmal treffen morde hunter pers nlich wieder teil reihe einfach verschlungen habe spannend letzte detail chris carter weis...</td>\n",
       "      <td>teil hunter garcia morde nlich teil spannen letzte detail leser teil</td>\n",
       "    </tr>\n",
       "    <tr>\n",
       "      <th>2</th>\n",
       "      <td>168146</td>\n",
       "      <td>Jagd auf die Bestie</td>\n",
       "      <td>Ullstein Buchverlage</td>\n",
       "      <td>70</td>\n",
       "      <td>thriller taschen broschur seiten englischen bersetzt sybille uplegger isbn erschienen reihe hunter garcia thriller band grausamste killer gejagt lebenslang sicherheitsverwahrung doch entkommen sei...</td>\n",
       "      <td>thriller taschen broschur seiten englisch bersetzt uplegger garcia thriller killer lebenslang sicherheitsverwahrung entkommen name folter ruhen profiler jagen grausam killer schlimm folter hochint...</td>\n",
       "    </tr>\n",
       "    <tr>\n",
       "      <th>3</th>\n",
       "      <td>168146</td>\n",
       "      <td>Jagd auf die Bestie</td>\n",
       "      <td>Ullstein Buchverlage</td>\n",
       "      <td>70</td>\n",
       "      <td>dies mein erster thriller chris carter trotz brutalit finde story psychologisch hervorragend konstruiert vielschichtig begabten liegt welcher mich seine weiteren werke neugierig gemacht hunter gar...</td>\n",
       "      <td>erst thriller brutalit finden story psychologisch hervorragen vielschichtig begabten weit neugierig garcia ermittler genie folter jahren schier gleichen umst nden hochsicherheitsgef ngnisses hinte...</td>\n",
       "    </tr>\n",
       "    <tr>\n",
       "      <th>4</th>\n",
       "      <td>168146</td>\n",
       "      <td>Jagd auf die Bestie</td>\n",
       "      <td>Ullstein Buchverlage</td>\n",
       "      <td>70</td>\n",
       "      <td>dieses bereits zehnte band robert hunter reihe erste fortsetzung geschrieben jagd stille sechsten band reihe empfiehlt seiner schlussbemerkung band sechs ebenfalls lesen damit aktuellen band wirkl...</td>\n",
       "      <td>zehnte band hunter reihe erste fortsetzung still sechsten band schlussbemerkung band aktuell wirklich schluss hilfreich hinweis beginn vorg stelle nnen informationen tief zusammenh thriller brutal...</td>\n",
       "    </tr>\n",
       "  </tbody>\n",
       "</table>\n",
       "</div>"
      ],
      "text/plain": [
       "   book_id                Title        Publisher Name  Review Count  \\\n",
       "0   168146  Jagd auf die Bestie  Ullstein Buchverlage            70   \n",
       "1   168146  Jagd auf die Bestie  Ullstein Buchverlage            70   \n",
       "2   168146  Jagd auf die Bestie  Ullstein Buchverlage            70   \n",
       "3   168146  Jagd auf die Bestie  Ullstein Buchverlage            70   \n",
       "4   168146  Jagd auf die Bestie  Ullstein Buchverlage            70   \n",
       "\n",
       "                                                                                                                                                                                                      text  \\\n",
       "0                                                            band hunter garcia reihe wieder sich einmal angefangen chris carter lesen kann schnell nicht wieder aufh schlaflose chte sind vorprogrammiert   \n",
       "1  wahnsinns teil hunter garcia reihe diesmal haben person sich haben denn diesmal treffen morde hunter pers nlich wieder teil reihe einfach verschlungen habe spannend letzte detail chris carter weis...   \n",
       "2  thriller taschen broschur seiten englischen bersetzt sybille uplegger isbn erschienen reihe hunter garcia thriller band grausamste killer gejagt lebenslang sicherheitsverwahrung doch entkommen sei...   \n",
       "3  dies mein erster thriller chris carter trotz brutalit finde story psychologisch hervorragend konstruiert vielschichtig begabten liegt welcher mich seine weiteren werke neugierig gemacht hunter gar...   \n",
       "4  dieses bereits zehnte band robert hunter reihe erste fortsetzung geschrieben jagd stille sechsten band reihe empfiehlt seiner schlussbemerkung band sechs ebenfalls lesen damit aktuellen band wirkl...   \n",
       "\n",
       "                                                                                                                                                                                                Clean_Text  \n",
       "0                                                                                                                                                                   garcia reihe schnellen schlaflose chte  \n",
       "1                                                                                                                                     teil hunter garcia morde nlich teil spannen letzte detail leser teil  \n",
       "2  thriller taschen broschur seiten englisch bersetzt uplegger garcia thriller killer lebenslang sicherheitsverwahrung entkommen name folter ruhen profiler jagen grausam killer schlimm folter hochint...  \n",
       "3  erst thriller brutalit finden story psychologisch hervorragen vielschichtig begabten weit neugierig garcia ermittler genie folter jahren schier gleichen umst nden hochsicherheitsgef ngnisses hinte...  \n",
       "4  zehnte band hunter reihe erste fortsetzung still sechsten band schlussbemerkung band aktuell wirklich schluss hilfreich hinweis beginn vorg stelle nnen informationen tief zusammenh thriller brutal...  "
      ]
     },
     "execution_count": 5,
     "metadata": {},
     "output_type": "execute_result"
    }
   ],
   "source": [
    "df['Clean_Text'] = df_3\n",
    "df.head()"
   ]
  },
  {
   "cell_type": "code",
   "execution_count": 6,
   "metadata": {},
   "outputs": [],
   "source": [
    "df.to_csv(\"cleaned_reviews.csv\" , index = False)"
   ]
  },
  {
   "cell_type": "code",
   "execution_count": null,
   "metadata": {},
   "outputs": [],
   "source": [
    "df['Title'].unique()"
   ]
  },
  {
   "cell_type": "code",
   "execution_count": null,
   "metadata": {},
   "outputs": [],
   "source": [
    "df.columns"
   ]
  },
  {
   "cell_type": "code",
   "execution_count": null,
   "metadata": {},
   "outputs": [],
   "source": [
    "df['text'].unique()"
   ]
  },
  {
   "cell_type": "code",
   "execution_count": null,
   "metadata": {},
   "outputs": [],
   "source": []
  }
 ],
 "metadata": {
  "kernelspec": {
   "display_name": "Python 3",
   "language": "python",
   "name": "python3"
  },
  "language_info": {
   "codemirror_mode": {
    "name": "ipython",
    "version": 3
   },
   "file_extension": ".py",
   "mimetype": "text/x-python",
   "name": "python",
   "nbconvert_exporter": "python",
   "pygments_lexer": "ipython3",
   "version": "3.7.1"
  }
 },
 "nbformat": 4,
 "nbformat_minor": 2
}
